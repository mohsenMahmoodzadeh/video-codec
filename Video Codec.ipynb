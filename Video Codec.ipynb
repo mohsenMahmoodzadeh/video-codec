{
 "cells": [
  {
   "cell_type": "code",
   "execution_count": 11,
   "id": "fe16a01f",
   "metadata": {},
   "outputs": [],
   "source": [
    "import cv2\n",
    "import numpy as np"
   ]
  },
  {
   "cell_type": "code",
   "execution_count": 12,
   "id": "4ff20d43",
   "metadata": {},
   "outputs": [],
   "source": [
    "cap = cv2.VideoCapture('sample 30 frame 1 min.mp4')\n",
    "if (cap.isOpened()== False): \n",
    "    print(\"Error opening video stream or file\")\n",
    "\n",
    "gray_frames = []    \n",
    "while(cap.isOpened()):\n",
    "  \n",
    "    ret, frame = cap.read()\n",
    "    if ret == True:\n",
    "        gray = cv2.cvtColor(frame, cv2.COLOR_BGR2GRAY)\n",
    "        gray_frames.append(gray)\n",
    "        cv2.imshow('Frame', gray)\n",
    "\n",
    "        if cv2.waitKey(25) & 0xFF == ord('q'):\n",
    "            break\n",
    "    else: \n",
    "        break\n",
    "\n",
    "cap.release()\n",
    "cv2.destroyAllWindows()"
   ]
  },
  {
   "cell_type": "code",
   "execution_count": 21,
   "id": "3d6b4f64",
   "metadata": {},
   "outputs": [
    {
     "name": "stdout",
     "output_type": "stream",
     "text": [
      "(540, 960)\n"
     ]
    }
   ],
   "source": [
    "print(gray_frames[0].shape)"
   ]
  },
  {
   "cell_type": "code",
   "execution_count": 29,
   "id": "f7486b5e",
   "metadata": {},
   "outputs": [],
   "source": [
    "# from scipy.fft import fft, dct\n",
    "from scipy.fftpack import fft, dct"
   ]
  },
  {
   "cell_type": "code",
   "execution_count": 30,
   "id": "2dc2714c",
   "metadata": {},
   "outputs": [
    {
     "name": "stdout",
     "output_type": "stream",
     "text": [
      "[[ 59  96 118 ... 141 108  65]\n",
      " [ 75 113 137 ... 164 131  88]\n",
      " [ 74 113 142 ... 162 129  86]\n",
      " ...\n",
      " [ 64 107 142 ... 144 122  85]\n",
      " [ 68 109 141 ... 143 121  84]\n",
      " [ 53  93 123 ... 124 102  65]]\n",
      "[[206  94 131 ...  14  11 247]\n",
      " [ 18  68 122 ...  20  11 242]\n",
      " [ 28  81 103 ...  20  11 242]\n",
      " ...\n",
      " [  2  44  83 ...  29 255 249]\n",
      " [  6  55  97 ...  33   0 245]\n",
      " [210  83 103 ...  24 255 253]]\n"
     ]
    }
   ],
   "source": [
    "block_width = 8\n",
    "block_height = 8\n",
    "\n",
    "num_frames = len(gray_frames)\n",
    "transformed_frames = []\n",
    "\n",
    "print(gray_frames[0])\n",
    "\n",
    "for f in range(num_frames):\n",
    "    current_frame = gray_frames[f]\n",
    "    current_frame_transformed = np.empty_like(current_frame)\n",
    "    frame_height, frame_width = current_frame.shape\n",
    "    \n",
    "    for i in range(0, frame_height, block_height):\n",
    "        for j in range(0, frame_width, block_width):\n",
    "            current_block = current_frame[i: i + block_height, j: j + block_width]\n",
    "            transformed_current_block = dct(current_block)\n",
    "            current_frame_transformed[i: i + block_height, j: j + block_width] = transformed_current_block\n",
    "    transformed_frames.append(current_frame_transformed)\n",
    "\n",
    "print(transformed_frames[0])"
   ]
  },
  {
   "cell_type": "markdown",
   "id": "eca0ebcd",
   "metadata": {},
   "source": [
    "# Resources & References"
   ]
  },
  {
   "cell_type": "markdown",
   "id": "860883ff",
   "metadata": {},
   "source": [
    "1. https://learnopencv.com/read-write-and-display-a-video-using-opencv-cpp-python/\n",
    "2. https://docs.opencv.org/master/dd/d43/tutorial_py_video_display.html\n",
    "3. https://ottverse.com/discrete-cosine-transform-dct-video-compression/\n",
    "4. https://yasoob.me/posts/understanding-and-writing-jpeg-decoder-in-python/\n",
    "5. https://docs.scipy.org/doc/scipy/reference/generated/scipy.fftpack.dct.html#scipy.fftpack.dct\n",
    "6. https://docs.scipy.org/doc/scipy/reference/fftpack.html\n",
    "7. https://fairyonice.github.io/2D-DCT.html"
   ]
  }
 ],
 "metadata": {
  "kernelspec": {
   "display_name": "Python 3",
   "language": "python",
   "name": "python3"
  },
  "language_info": {
   "codemirror_mode": {
    "name": "ipython",
    "version": 3
   },
   "file_extension": ".py",
   "mimetype": "text/x-python",
   "name": "python",
   "nbconvert_exporter": "python",
   "pygments_lexer": "ipython3",
   "version": "3.9.1"
  }
 },
 "nbformat": 4,
 "nbformat_minor": 5
}
