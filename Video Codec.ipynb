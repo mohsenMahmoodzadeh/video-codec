{
 "cells": [
  {
   "cell_type": "code",
   "execution_count": 5,
   "id": "fe16a01f",
   "metadata": {},
   "outputs": [],
   "source": [
    "import cv2\n",
    "import numpy as np"
   ]
  },
  {
   "cell_type": "code",
   "execution_count": 13,
   "id": "4ff20d43",
   "metadata": {},
   "outputs": [],
   "source": [
    "cap = cv2.VideoCapture('sample 30 frame 1 min.mp4')\n",
    "if (cap.isOpened()== False): \n",
    "    print(\"Error opening video stream or file\")\n",
    "\n",
    "gray_frames = []    \n",
    "while(cap.isOpened()):\n",
    "  \n",
    "    ret, frame = cap.read()\n",
    "    if ret == True:\n",
    "        gray = cv2.cvtColor(frame, cv.COLOR_BGR2GRAY)\n",
    "        gray_frames.append(gray)\n",
    "        cv2.imshow('Frame', gray)\n",
    "\n",
    "        if cv2.waitKey(25) & 0xFF == ord('q'):\n",
    "            break\n",
    "    else: \n",
    "        break\n",
    "\n",
    "cap.release()\n",
    "cv2.destroyAllWindows()"
   ]
  },
  {
   "cell_type": "markdown",
   "id": "eca0ebcd",
   "metadata": {},
   "source": [
    "# Resources & References"
   ]
  },
  {
   "cell_type": "markdown",
   "id": "860883ff",
   "metadata": {},
   "source": [
    "1. https://learnopencv.com/read-write-and-display-a-video-using-opencv-cpp-python/\n",
    "2. https://docs.opencv.org/master/dd/d43/tutorial_py_video_display.html"
   ]
  }
 ],
 "metadata": {
  "kernelspec": {
   "display_name": "Python 3",
   "language": "python",
   "name": "python3"
  },
  "language_info": {
   "codemirror_mode": {
    "name": "ipython",
    "version": 3
   },
   "file_extension": ".py",
   "mimetype": "text/x-python",
   "name": "python",
   "nbconvert_exporter": "python",
   "pygments_lexer": "ipython3",
   "version": "3.9.1"
  }
 },
 "nbformat": 4,
 "nbformat_minor": 5
}
