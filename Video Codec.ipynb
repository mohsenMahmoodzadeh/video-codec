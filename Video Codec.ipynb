{
 "cells": [
  {
   "cell_type": "markdown",
   "id": "dff40084",
   "metadata": {},
   "source": [
    "# Video Codec"
   ]
  },
  {
   "cell_type": "markdown",
   "id": "52cddb24",
   "metadata": {},
   "source": [
    "In this project, we're going to implement a simple codec for a video."
   ]
  },
  {
   "cell_type": "markdown",
   "id": "7de2fa80",
   "metadata": {},
   "source": [
    "## Import Libraries"
   ]
  },
  {
   "cell_type": "markdown",
   "id": "e1eae2c4",
   "metadata": {},
   "source": [
    "First of all, we need to import the neccessary modules e.g. OpenCV and Numpy."
   ]
  },
  {
   "cell_type": "code",
   "execution_count": 44,
   "id": "fe16a01f",
   "metadata": {},
   "outputs": [],
   "source": [
    "import cv2\n",
    "import numpy as np"
   ]
  },
  {
   "cell_type": "markdown",
   "id": "e174d8ca",
   "metadata": {},
   "source": [
    "## Capture video"
   ]
  },
  {
   "cell_type": "markdown",
   "id": "ed947da2",
   "metadata": {},
   "source": [
    "Then we use OpenCV for capturing the mentioned video. we extract it's frame one by one, store each in a list named gray_frames. it's important to say that we'll work with GRAY frames(not colored oens)."
   ]
  },
  {
   "cell_type": "code",
   "execution_count": 45,
   "id": "4ff20d43",
   "metadata": {},
   "outputs": [],
   "source": [
    "cap = cv2.VideoCapture('sample 30 frame 1 min.mp4')\n",
    "if (cap.isOpened()== False): \n",
    "    print(\"Error opening video stream or file\")\n",
    "\n",
    "gray_frames = []    \n",
    "while(cap.isOpened()):\n",
    "  \n",
    "    ret, frame = cap.read()\n",
    "    if ret == True:\n",
    "        gray = cv2.cvtColor(frame, cv2.COLOR_BGR2GRAY)\n",
    "        gray_frames.append(gray)\n",
    "        cv2.imshow('Frame', gray)\n",
    "\n",
    "        if cv2.waitKey(25) & 0xFF == ord('q'):\n",
    "            break\n",
    "    else: \n",
    "        break\n",
    "\n",
    "cap.release()\n",
    "cv2.destroyAllWindows()"
   ]
  },
  {
   "cell_type": "markdown",
   "id": "aa566161",
   "metadata": {},
   "source": [
    "## Preprocessing(Padding)"
   ]
  },
  {
   "cell_type": "markdown",
   "id": "8c4f8f4a",
   "metadata": {},
   "source": [
    "Since we're going to work with 8 * 8 blocks in each frame, we need to have frames with dimensions multiples of 8 or if not, we need to make their dimensions multiples of 8! So we'll pad the frames to reach this goal."
   ]
  },
  {
   "cell_type": "code",
   "execution_count": 46,
   "id": "08aee5c7",
   "metadata": {},
   "outputs": [],
   "source": [
    "for i in range(len(gray_frames)):\n",
    "    current_gray_frame = gray_frames[i]\n",
    "    gray_frames[i] = cv2.copyMakeBorder(current_gray_frame, 2, 2, 0, 0, cv2.BORDER_REPLICATE) \n",
    "    "
   ]
  },
  {
   "cell_type": "code",
   "execution_count": 47,
   "id": "93044522",
   "metadata": {},
   "outputs": [
    {
     "name": "stdout",
     "output_type": "stream",
     "text": [
      "(544, 960)\n"
     ]
    }
   ],
   "source": [
    "print(gray_frames[0].shape)"
   ]
  },
  {
   "cell_type": "markdown",
   "id": "f4cc285d",
   "metadata": {},
   "source": [
    "## Encoder"
   ]
  },
  {
   "cell_type": "markdown",
   "id": "a711a170",
   "metadata": {},
   "source": [
    "### DCT"
   ]
  },
  {
   "cell_type": "markdown",
   "id": "ec383d6b",
   "metadata": {},
   "source": [
    "Now we're ready for doing Discrete Cosine Transform or DCT. we iterate over all the frames, and in each frame, we apply DCT on 8 * 8 blocks of the frame. we stroe transformed frames in a list called transformed_frames."
   ]
  },
  {
   "cell_type": "code",
   "execution_count": 50,
   "id": "2a5b31f9",
   "metadata": {},
   "outputs": [
    {
     "name": "stdout",
     "output_type": "stream",
     "text": [
      "First gray frame: \n",
      "[[ 59  96 118 ... 141 108  65]\n",
      " [ 59  96 118 ... 141 108  65]\n",
      " [ 59  96 118 ... 141 108  65]\n",
      " ...\n",
      " [ 53  93 123 ... 124 102  65]\n",
      " [ 53  93 123 ... 124 102  65]\n",
      " [ 53  93 123 ... 124 102  65]]\n",
      "\n",
      "First transformed frame: \n",
      "[[ 9.78500000e+02 -1.28162231e+02 -9.96509781e+01 ...  1.32814989e+01\n",
      "   6.01861477e+00 -5.92755747e+00]\n",
      " [-7.39637909e+01  1.06848631e+01  8.67744637e+00 ... -2.58376837e+00\n",
      "   3.03968978e+00 -1.70750749e+00]\n",
      " [-2.56925335e+01  1.61831472e-02  1.20710373e+00 ...  4.44632113e-01\n",
      "  -1.93566024e+00  2.10769010e+00]\n",
      " ...\n",
      " [-7.33876896e+00 -1.23907775e-01 -1.14798880e+00 ... -7.12391138e-01\n",
      "  -1.37865022e-01  6.67120874e-01]\n",
      " [-1.16337261e+01  1.14310287e-01 -8.16941798e-01 ... -6.35443389e-01\n",
      "  -6.69417381e-02  6.30997360e-01]\n",
      " [ 1.21543274e+01 -2.09117651e+00 -4.64548498e-01 ...  6.24508858e-01\n",
      "   8.17221925e-02 -5.42408943e-01]]\n",
      "\n"
     ]
    }
   ],
   "source": [
    "block_width = 8\n",
    "block_height = 8\n",
    "\n",
    "num_frames = len(gray_frames)\n",
    "transformed_frames = []\n",
    "\n",
    "print('First gray frame: ')\n",
    "print(gray_frames[0])\n",
    "print()\n",
    "\n",
    "for f in range(num_frames):\n",
    "    current_frame = gray_frames[f]\n",
    "    current_frame_transformed = np.empty_like(current_frame, dtype=np.float32)\n",
    "    frame_height, frame_width = current_frame.shape\n",
    "    \n",
    "    for i in range(0, frame_height, block_height):\n",
    "        for j in range(0, frame_width, block_width):\n",
    "            current_block = np.array(current_frame[i: i + block_height, j: j + block_width], dtype=np.float32)\n",
    "            transformed_current_block = cv2.dct(current_block)\n",
    "#             transformed_current_block = dct(dct(current_block, axis=0, norm=\"ortho\"), axis=1, norm=\"ortho\")\n",
    "            current_frame_transformed[i: i + block_height, j: j + block_width] = transformed_current_block\n",
    "    transformed_frames.append(current_frame_transformed)\n",
    "\n",
    "print('First transformed frame: ')\n",
    "print(transformed_frames[0])\n",
    "print()"
   ]
  },
  {
   "cell_type": "markdown",
   "id": "96da4465",
   "metadata": {},
   "source": [
    "### Quantization"
   ]
  },
  {
   "cell_type": "code",
   "execution_count": 42,
   "id": "d6e43fff",
   "metadata": {},
   "outputs": [],
   "source": [
    "transformed_frames = [np.abs(transformed_frames[i]).astype(np.uint64) for i in range(len(transformed_frames))]"
   ]
  },
  {
   "cell_type": "code",
   "execution_count": 43,
   "id": "5de0c035",
   "metadata": {},
   "outputs": [
    {
     "data": {
      "text/plain": [
       "array([[978, 128,  99, ...,  13,   6,   5],\n",
       "       [ 73,  10,   8, ...,   2,   3,   1],\n",
       "       [ 25,   0,   1, ...,   0,   1,   2],\n",
       "       ...,\n",
       "       [  7,   0,   1, ...,   0,   0,   0],\n",
       "       [ 11,   0,   0, ...,   0,   0,   0],\n",
       "       [ 12,   2,   0, ...,   0,   0,   0]], dtype=uint64)"
      ]
     },
     "execution_count": 43,
     "metadata": {},
     "output_type": "execute_result"
    }
   ],
   "source": [
    "transformed_frames[0]"
   ]
  },
  {
   "cell_type": "code",
   "execution_count": null,
   "id": "430b1b32",
   "metadata": {},
   "outputs": [],
   "source": [
    "for f in range(num_frames):\n",
    "    current_frame = transformed_frames[f]\n",
    "    current_frame_transformed = np.empty_like(current_frame, dtype=np.float32)\n",
    "    frame_height, frame_width = current_frame.shape\n",
    "    \n",
    "    for i in range(0, frame_height, block_height):\n",
    "        for j in range(0, frame_width, block_width):\n",
    "            current_block = np.array(current_frame[i: i + block_height, j: j + block_width], dtype=np.float32)\n",
    "            transformed_current_block = cv2.dct(current_block)\n",
    "#             transformed_current_block = dct(dct(current_block, axis=0, norm=\"ortho\"), axis=1, norm=\"ortho\")\n",
    "            current_frame_transformed[i: i + block_height, j: j + block_width] = transformed_current_block\n",
    "    transformed_frames.append(current_frame_transformed)"
   ]
  },
  {
   "cell_type": "code",
   "execution_count": 22,
   "id": "389efd32",
   "metadata": {},
   "outputs": [
    {
     "name": "stdout",
     "output_type": "stream",
     "text": [
      "68\n",
      "120\n"
     ]
    },
    {
     "data": {
      "text/plain": [
       "True"
      ]
     },
     "execution_count": 22,
     "metadata": {},
     "output_type": "execute_result"
    }
   ],
   "source": [
    "blocksV= gray_frames[0].shape[0]//block_height\n",
    "blocksH= gray_frames[0].shape[1]//block_width\n",
    "print(blocksV)\n",
    "print(blocksH)\n",
    "vis0 = np.zeros((gray_frames[0].shape[0], gray_frames[0].shape[1]), np.float32)\n",
    "Trans = np.zeros((gray_frames[0].shape[0], gray_frames[0].shape[1]), np.float32)\n",
    "vis0[:gray_frames[0].shape[0], :gray_frames[0].shape[1]] = gray_frames[0]\n",
    "\n",
    "for row in range(blocksV):\n",
    "        for col in range(blocksH):\n",
    "                currentblock = cv2.dct(vis0[row*block_height:(row+1)*block_height, col*block_height:(col+1)*block_height])\n",
    "                Trans[row*block_height:(row+1)*block_height, col*block_height:(col+1)*block_height]=currentblock\n",
    "cv2.imwrite('Transformed.jpg', Trans)"
   ]
  },
  {
   "cell_type": "code",
   "execution_count": 31,
   "id": "59a7a7b0",
   "metadata": {},
   "outputs": [
    {
     "name": "stdout",
     "output_type": "stream",
     "text": [
      "[[ 9.78500000e+02 -1.28162231e+02 -9.96509781e+01 ...  1.32814989e+01\n",
      "   6.01861477e+00 -5.92755747e+00]\n",
      " [-7.39637909e+01  1.06848631e+01  8.67744637e+00 ... -2.58376837e+00\n",
      "   3.03968978e+00 -1.70750749e+00]\n",
      " [-2.56925335e+01  1.61831472e-02  1.20710373e+00 ...  4.44632113e-01\n",
      "  -1.93566024e+00  2.10769010e+00]\n",
      " ...\n",
      " [-7.33876896e+00 -1.23907775e-01 -1.14798880e+00 ... -7.12391138e-01\n",
      "  -1.37865022e-01  6.67120874e-01]\n",
      " [-1.16337261e+01  1.14310287e-01 -8.16941798e-01 ... -6.35443389e-01\n",
      "  -6.69417381e-02  6.30997360e-01]\n",
      " [ 1.21543274e+01 -2.09117651e+00 -4.64548498e-01 ...  6.24508858e-01\n",
      "   8.17221925e-02 -5.42408943e-01]]\n"
     ]
    }
   ],
   "source": [
    "print(Trans)"
   ]
  },
  {
   "cell_type": "code",
   "execution_count": 32,
   "id": "9c9cd551",
   "metadata": {},
   "outputs": [
    {
     "data": {
      "text/plain": [
       "Text(0.5, 1.0, 'DCT transform of selected Region')"
      ]
     },
     "execution_count": 32,
     "metadata": {},
     "output_type": "execute_result"
    },
    {
     "data": {
      "image/png": "[encoded data removed]",
      "text/plain": [
       "<Figure size 432x288 with 3 Axes>"
      ]
     },
     "metadata": {
      "needs_background": "light"
     },
     "output_type": "display_data"
    }
   ],
   "source": [
    "from matplotlib import pyplot as plt\n",
    "from matplotlib.colors import Normalize\n",
    "import matplotlib.cm as cm\n",
    "B=8\n",
    "plt.figure()\n",
    "plt.subplot(1,2,1)\n",
    "img = gray_frames[0]\n",
    "# selectedImg= img[row*B:(row+1)*B,col*B:(col+1)*B]\n",
    "selectedImg= img\n",
    "N255=Normalize(0,255) #Normalization object, used by imshow()\n",
    "plt.imshow(selectedImg,cmap=\"gray\",norm=N255,interpolation='nearest')\n",
    "plt.title(\"Image in selected Region\")\n",
    "\n",
    "plt.subplot(1,2,2)\n",
    "# selectedTrans=Trans[row*B:(row+1)*B,col*B:(col+1)*B]\n",
    "selectedTrans=Trans\n",
    "plt.imshow(selectedTrans,cmap=cm.jet,interpolation='nearest')\n",
    "plt.colorbar(shrink=0.5)\n",
    "plt.title(\"DCT transform of selected Region\")"
   ]
  },
  {
   "cell_type": "markdown",
   "id": "eca0ebcd",
   "metadata": {},
   "source": [
    "# Resources & References"
   ]
  },
  {
   "cell_type": "markdown",
   "id": "860883ff",
   "metadata": {},
   "source": [
    "1. https://learnopencv.com/read-write-and-display-a-video-using-opencv-cpp-python/\n",
    "2. https://docs.opencv.org/master/dd/d43/tutorial_py_video_display.html\n",
    "3. https://ottverse.com/discrete-cosine-transform-dct-video-compression/\n",
    "4. https://yasoob.me/posts/understanding-and-writing-jpeg-decoder-in-python/\n",
    "5. https://docs.scipy.org/doc/scipy/reference/generated/scipy.fftpack.dct.html#scipy.fftpack.dct\n",
    "6. https://docs.scipy.org/doc/scipy/reference/fftpack.html\n",
    "7. https://fairyonice.github.io/2D-DCT.html\n",
    "8. https://www.geeksforgeeks.org/python-opencv-cv2-copymakeborder-method/\n",
    "9. https://www.hdm-stuttgart.de/~maucher/Python/MMCodecs/html/transforms.html"
   ]
  }
 ],
 "metadata": {
  "kernelspec": {
   "display_name": "Python 3",
   "language": "python",
   "name": "python3"
  },
  "language_info": {
   "codemirror_mode": {
    "name": "ipython",
    "version": 3
   },
   "file_extension": ".py",
   "mimetype": "text/x-python",
   "name": "python",
   "nbconvert_exporter": "python",
   "pygments_lexer": "ipython3",
   "version": "3.9.1"
  }
 },
 "nbformat": 4,
 "nbformat_minor": 5
}
